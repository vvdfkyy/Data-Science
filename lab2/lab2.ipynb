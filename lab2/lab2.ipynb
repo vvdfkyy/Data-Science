{
 "cells": [
  {
   "cell_type": "markdown",
   "metadata": {},
   "source": [
    "# Підготовка та Аналіз даних\n",
    "## Лабораторна робота №2\n",
    "## Наука про дані: підготовчий етап\n",
    "<b>Мета роботи</b>: ознайомитися з основними кроками по роботі з даними –\n",
    "workflow від постановки задачі до написання пояснювальної записки,\n",
    "зрозуміти постановку задачі та природу даних, над якими виконується\n",
    "аналітичні операції\n",
    "#### <b>Виконав:</b> <i>ФБ-35 Архипчук Віталій</i>"
   ]
  },
  {
   "cell_type": "markdown",
   "metadata": {},
   "source": [
    "Перш за все виконаємо import потрібних біліотек для подальшої роботи:"
   ]
  },
  {
   "cell_type": "code",
   "execution_count": 2,
   "metadata": {},
   "outputs": [],
   "source": [
    "import urllib.request\n",
    "import pandas as pd\n",
    "import os\n",
    "from datetime import datetime"
   ]
  },
  {
   "cell_type": "markdown",
   "metadata": {},
   "source": [
    "Для кожної із адміністративних одиниць України завантажити тестові структуровані файли, що містять значення VHI-індексу. Ця процедура має бути автоматизована, параметром процедури має бути індекс (номер) області. При зберіганні файлу до його імені потрібно додати дату та час завантаження.\n",
    "Передбачити повторні запуски скрипту, довантаження нових даних та колізію даних;"
   ]
  },
  {
   "cell_type": "code",
   "execution_count": 4,
   "metadata": {},
   "outputs": [
    {
     "name": "stdout",
     "output_type": "stream",
     "text": [
      "VHI для області 1 завантажено в VHI/ID_1_15-03-2025_14-26-39.csv\n",
      "VHI для області 2 завантажено в VHI/ID_2_15-03-2025_14-26-41.csv\n",
      "VHI для області 3 завантажено в VHI/ID_3_15-03-2025_14-26-43.csv\n",
      "VHI для області 4 завантажено в VHI/ID_4_15-03-2025_14-26-45.csv\n",
      "VHI для області 5 завантажено в VHI/ID_5_15-03-2025_14-26-47.csv\n",
      "VHI для області 6 завантажено в VHI/ID_6_15-03-2025_14-26-49.csv\n",
      "VHI для області 7 завантажено в VHI/ID_7_15-03-2025_14-26-51.csv\n",
      "VHI для області 8 завантажено в VHI/ID_8_15-03-2025_14-26-53.csv\n",
      "VHI для області 9 завантажено в VHI/ID_9_15-03-2025_14-26-55.csv\n",
      "VHI для області 10 завантажено в VHI/ID_10_15-03-2025_14-26-57.csv\n",
      "VHI для області 11 завантажено в VHI/ID_11_15-03-2025_14-26-58.csv\n",
      "VHI для області 12 завантажено в VHI/ID_12_15-03-2025_14-27-00.csv\n",
      "VHI для області 13 завантажено в VHI/ID_13_15-03-2025_14-27-02.csv\n",
      "VHI для області 14 завантажено в VHI/ID_14_15-03-2025_14-27-04.csv\n",
      "VHI для області 15 завантажено в VHI/ID_15_15-03-2025_14-27-06.csv\n",
      "VHI для області 16 завантажено в VHI/ID_16_15-03-2025_14-27-07.csv\n",
      "VHI для області 17 завантажено в VHI/ID_17_15-03-2025_14-27-09.csv\n",
      "VHI для області 18 завантажено в VHI/ID_18_15-03-2025_14-27-11.csv\n",
      "VHI для області 19 завантажено в VHI/ID_19_15-03-2025_14-27-12.csv\n",
      "VHI для області 20 завантажено в VHI/ID_20_15-03-2025_14-27-14.csv\n",
      "VHI для області 21 завантажено в VHI/ID_21_15-03-2025_14-27-15.csv\n",
      "VHI для області 22 завантажено в VHI/ID_22_15-03-2025_14-27-17.csv\n",
      "VHI для області 23 завантажено в VHI/ID_23_15-03-2025_14-27-19.csv\n",
      "VHI для області 24 завантажено в VHI/ID_24_15-03-2025_14-27-21.csv\n",
      "VHI для області 25 завантажено в VHI/ID_25_15-03-2025_14-27-23.csv\n",
      "VHI для області 26 завантажено в VHI/ID_26_15-03-2025_14-27-25.csv\n",
      "VHI для області 27 завантажено в VHI/ID_27_15-03-2025_14-27-27.csv\n"
     ]
    }
   ],
   "source": [
    "def download_vhi( index ) :\n",
    "\n",
    "    url = f\"https://www.star.nesdis.noaa.gov/smcd/emb/vci/VH/get_TS_admin.php?country=UKR&provinceID={index}&year1=1981&year2=2024&type=Mean\"\n",
    "    \n",
    "    now = datetime.now( )\n",
    "    date_and_time = now.strftime( \"%d-%m-%Y_%H-%M-%S\" )\n",
    "    \n",
    "    os.makedirs( \"VHI\", exist_ok=True )\n",
    "    \n",
    "    filename = f'VHI/ID_{ index }_{ date_and_time }.csv'\n",
    "    \n",
    "    vhi_url = urllib.request.urlopen( url )\n",
    "    with open( filename, 'wb' ) as out:\n",
    "        out.write( vhi_url.read() )\n",
    "    print( f\"VHI для області {index} завантажено в {filename}\" )\n",
    "\n",
    "for i in range( 1, 28 ) :\n",
    "    download_vhi( i )"
   ]
  },
  {
   "cell_type": "markdown",
   "metadata": {},
   "source": [
    "Зчитати завантажені текстові файли у фрейм\n",
    "(https://pandas.pydata.org/docs/reference/api/pandas.DataFrame.html)\n",
    "\n",
    "(детальніше про роботу із фреймами буде розказано у подальших лабораторних роботах).\n",
    "\n",
    "Імена стовбців фрейму мають бути змістовними та легкими для сприйняття (не повинно бути спеціалізованих символів, пробілів тощо). Ця задача має бути реалізована у вигляді окремої процедури, яка на вхід приймає шлях до директорії, в якій зберігаються файли;"
   ]
  },
  {
   "cell_type": "code",
   "execution_count": 3,
   "metadata": {},
   "outputs": [
    {
     "name": "stdout",
     "output_type": "stream",
     "text": [
      "       Year  Week    SMN     SMT    VCI    TCI    VHI  Region\n",
      "0      1982     1  0.059  258.24  51.11  48.78  49.95      10\n",
      "1      1982     2  0.063  261.53  55.89  38.20  47.04      10\n",
      "2      1982     3  0.063  263.45  57.30  32.69  44.99      10\n",
      "3      1982     4  0.061  265.10  53.96  28.62  41.29      10\n",
      "4      1982     5  0.058  266.42  46.87  28.57  37.72      10\n",
      "...     ...   ...    ...     ...    ...    ...    ...     ...\n",
      "59017  2024    48  0.135  278.17  55.23  11.86  33.55       9\n",
      "59018  2024    49  0.133  277.08  57.71  10.86  34.29       9\n",
      "59019  2024    50  0.130  276.49  59.45   8.68  34.07       9\n",
      "59020  2024    51  0.128  276.45  62.53   5.55  34.04       9\n",
      "59021  2024    52  0.129  276.48  66.13   3.71  34.92       9\n",
      "\n",
      "[59022 rows x 8 columns]\n"
     ]
    }
   ],
   "source": [
    "def frame( path ) :\n",
    "\n",
    "    headers = [ 'Year', 'Week', 'SMN', 'SMT', 'VCI', 'TCI', 'VHI', 'empty' ]\n",
    "    all_dataframes = [ ]\n",
    "    \n",
    "    for filename in os.listdir( path ) :\n",
    "        if filename.endswith( '.csv' ) and filename.startswith( \"ID\" ):\n",
    "            tokens = filename.split( \"_\" )\n",
    "            index = int( tokens[1] )\n",
    "            filepath = os.path.join( path, filename )\n",
    "\n",
    "            df = pd.read_csv( filepath, header=1, names=headers, encoding='utf-8' )\n",
    "            df = df[ df['VHI'] != -1 ]\n",
    "            df[ 'Region' ] = index\n",
    "            df[ 'Year' ] = df[ 'Year' ].astype( str ).str.replace( '<tt><pre>', '' ).str.replace( '</pre></tt>', '' ).str.strip( )\n",
    "            df = df[ df['Year'] != '' ]\n",
    "            df[ 'Year' ] = df[ 'Year' ].astype( int )\n",
    "            df[ 'Week' ] = df[ 'Week' ].astype( int )\n",
    "            df = df.drop( columns=['empty'] )\n",
    "\n",
    "            all_dataframes.append( df )\n",
    "    \n",
    "    return pd.concat( all_dataframes, ignore_index=True ).drop_duplicates( ).reset_index( drop=True ) if all_dataframes else pd.DataFrame( )\n",
    "\n",
    "folder_path = \"VHI\"\n",
    "output_path = os.path.join(folder_path, \"df.csv\")\n",
    "\n",
    "combined_dataframe = frame(folder_path)\n",
    "combined_dataframe.to_csv(output_path, index=False, encoding='utf-8')\n",
    "\n",
    "print( combined_dataframe )"
   ]
  },
  {
   "cell_type": "markdown",
   "metadata": {},
   "source": [
    "Реалізувати окрему процедуру, яка змінить індекси областей, які використані на порталі NOAA (за англійською абеткою) на наступні, за українською (виключно старі індекси на нові);"
   ]
  },
  {
   "cell_type": "code",
   "execution_count": 6,
   "metadata": {},
   "outputs": [
    {
     "name": "stdout",
     "output_type": "stream",
     "text": [
      "       Year  Week    SMN     SMT    VCI    TCI    VHI  Region\n",
      "0      1982   1.0  0.059  258.24  51.11  48.78  49.95      21\n",
      "1      1982   2.0  0.063  261.53  55.89  38.20  47.04      21\n",
      "2      1982   3.0  0.063  263.45  57.30  32.69  44.99      21\n",
      "3      1982   4.0  0.061  265.10  53.96  28.62  41.29      21\n",
      "4      1982   5.0  0.058  266.42  46.87  28.57  37.72      21\n",
      "...     ...   ...    ...     ...    ...    ...    ...     ...\n",
      "59017  2024  48.0  0.135  278.17  55.23  11.86  33.55      20\n",
      "59018  2024  49.0  0.133  277.08  57.71  10.86  34.29      20\n",
      "59019  2024  50.0  0.130  276.49  59.45   8.68  34.07      20\n",
      "59020  2024  51.0  0.128  276.45  62.53   5.55  34.04      20\n",
      "59021  2024  52.0  0.129  276.48  66.13   3.71  34.92      20\n",
      "\n",
      "[59022 rows x 8 columns]\n"
     ]
    }
   ],
   "source": [
    "def replace_region( df ) :\n",
    "\n",
    "    df = df.replace( {\"Region\": {\n",
    "            24:1, 25:2, 5:3, 6:4, 27:5, 23:6, 26:7, 7:8, 11:9, 13:10, \n",
    "            14:11, 15:12, 16:13, 17:14, 18:15, 19:16, 21:17, 22:18, 8:19, \n",
    "            9:20, 10:21, 1:22, 3:23, 2:24, 4:25, 12:26, 20:27}\n",
    "    } )\n",
    "    \n",
    "    return df\n",
    "\n",
    "combined_dataframe = replace_region( combined_dataframe )\n",
    "\n",
    "print( combined_dataframe )\n"
   ]
  },
  {
   "cell_type": "markdown",
   "metadata": {},
   "source": [
    "Реалізувати процедури для формування вибірок наступного виду\n",
    "(включаючи елементи аналізу):\n",
    "\n",
    "    1. Ряд VHI для області за вказаний рік;"
   ]
  },
  {
   "cell_type": "code",
   "execution_count": 7,
   "metadata": {},
   "outputs": [
    {
     "name": "stdout",
     "output_type": "stream",
     "text": [
      "    Year  Week  Region    VHI\n",
      "0   1982   1.0      21  49.95\n",
      "1   1982   2.0      21  47.04\n",
      "2   1982   3.0      21  44.99\n",
      "3   1982   4.0      21  41.29\n",
      "4   1982   5.0      21  37.72\n",
      "5   1982   6.0      21  34.91\n",
      "6   1982   7.0      21  33.14\n",
      "7   1982   8.0      21  32.72\n",
      "8   1982   9.0      21  32.77\n",
      "9   1982  10.0      21  32.23\n",
      "10  1982  11.0      21  30.38\n",
      "11  1982  12.0      21  31.12\n",
      "12  1982  13.0      21  31.65\n",
      "13  1982  14.0      21  32.61\n",
      "14  1982  15.0      21  35.49\n",
      "15  1982  16.0      21  39.19\n",
      "16  1982  17.0      21  41.14\n",
      "17  1982  18.0      21  39.50\n",
      "18  1982  19.0      21  37.07\n",
      "19  1982  20.0      21  37.88\n",
      "20  1982  21.0      21  40.99\n",
      "21  1982  22.0      21  43.36\n",
      "22  1982  23.0      21  45.31\n",
      "23  1982  24.0      21  46.30\n",
      "24  1982  25.0      21  48.85\n",
      "25  1982  26.0      21  50.88\n",
      "26  1982  27.0      21  51.83\n",
      "27  1982  28.0      21  51.68\n",
      "28  1982  29.0      21  51.61\n",
      "29  1982  30.0      21  49.93\n",
      "30  1982  31.0      21  46.00\n",
      "31  1982  32.0      21  43.56\n",
      "32  1982  33.0      21  41.20\n",
      "33  1982  34.0      21  38.42\n",
      "34  1982  35.0      21  39.22\n",
      "35  1982  36.0      21  39.13\n",
      "36  1982  37.0      21  37.25\n",
      "37  1982  38.0      21  36.38\n",
      "38  1982  39.0      21  35.99\n",
      "39  1982  40.0      21  34.87\n",
      "40  1982  41.0      21  29.96\n",
      "41  1982  42.0      21  28.16\n",
      "42  1982  43.0      21  27.39\n",
      "43  1982  44.0      21  25.05\n",
      "44  1982  45.0      21  23.80\n",
      "45  1982  46.0      21  22.82\n",
      "46  1982  47.0      21  24.41\n",
      "47  1982  48.0      21  27.34\n",
      "48  1982  49.0      21  28.53\n",
      "49  1982  50.0      21  27.87\n",
      "50  1982  51.0      21  29.83\n",
      "51  1982  52.0      21  31.99\n"
     ]
    }
   ],
   "source": [
    "def get_vhi( df, region, year ) :\n",
    "\n",
    "    filtered_df = df[ (df['Region'] == region) & (df['Year'] == year) ]\n",
    "    return filtered_df[ ['Year', 'Week', 'Region', 'VHI'] ]\n",
    "\n",
    "region = 21\n",
    "year = 1982\n",
    "\n",
    "vhi_data = get_vhi( combined_dataframe, region, year )\n",
    "print( vhi_data )"
   ]
  },
  {
   "cell_type": "markdown",
   "metadata": {},
   "source": [
    "    2. Пошук екстремумів (min та max) для вказаних областей та років, середнього, медіани;"
   ]
  },
  {
   "cell_type": "code",
   "execution_count": 8,
   "metadata": {},
   "outputs": [
    {
     "name": "stdout",
     "output_type": "stream",
     "text": [
      "   Region  Year  Min VHI  Max VHI   Mean VHI  Median VHI\n",
      "0      21  1982    22.82    51.83  37.359615       37.16\n",
      "1      22  1982    23.83    64.58  43.835000       41.67\n"
     ]
    }
   ],
   "source": [
    "def analyze_extremes( df, regions, year ) :\n",
    "\n",
    "    result = [ ]\n",
    "\n",
    "    for region in regions :\n",
    "        filtered_df = df[ (df['Region'] == region) & (df['Year'] == year) ]\n",
    "        \n",
    "        vhi_values = filtered_df[ 'VHI' ]\n",
    "        \n",
    "        min_vhi = vhi_values.min( )\n",
    "        max_vhi = vhi_values.max( )\n",
    "        mean_vhi = vhi_values.mean( )\n",
    "        median_vhi = vhi_values.median( )\n",
    "        \n",
    "        result.append( {\n",
    "            'Region': region,\n",
    "            'Year': year,\n",
    "            'Min VHI': min_vhi,\n",
    "            'Max VHI': max_vhi,\n",
    "            'Mean VHI': mean_vhi,\n",
    "            'Median VHI': median_vhi\n",
    "        } )\n",
    "    \n",
    "    result_df = pd.DataFrame( result )\n",
    "    return result_df\n",
    "\n",
    "regions = [ 21, 22 ]\n",
    "year = 1982\n",
    "\n",
    "extremes_df = analyze_extremes( combined_dataframe, regions, year )\n",
    "\n",
    "print( extremes_df )\n"
   ]
  },
  {
   "cell_type": "markdown",
   "metadata": {},
   "source": [
    "    3. Ряд VHI за вказаний діапазон років для вказаної області;"
   ]
  },
  {
   "cell_type": "code",
   "execution_count": 9,
   "metadata": {},
   "outputs": [
    {
     "name": "stdout",
     "output_type": "stream",
     "text": [
      "     Year    VHI\n",
      "0    1982  49.95\n",
      "1    1982  47.04\n",
      "2    1982  44.99\n",
      "3    1982  41.29\n",
      "4    1982  37.72\n",
      "..    ...    ...\n",
      "296  1987  31.89\n",
      "297  1987  29.87\n",
      "298  1987  27.96\n",
      "299  1987  27.21\n",
      "300  1987  29.46\n",
      "\n",
      "[301 rows x 2 columns]\n"
     ]
    }
   ],
   "source": [
    "def analyze_vhi_range( df, region, start_year, end_year ) :\n",
    "\n",
    "    filtered_df = df[ (df['Region'] == region) & (df['Year'].between(start_year, end_year)) ]\n",
    "    \n",
    "    vhi_values = filtered_df[ ['Year', 'VHI'] ]\n",
    "    \n",
    "    return vhi_values\n",
    "\n",
    "region = 21\n",
    "start_year = 1982\n",
    "end_year = 1987\n",
    "\n",
    "vhi_range_df = analyze_vhi_range( combined_dataframe, region, start_year, end_year )\n",
    "\n",
    "print( vhi_range_df )"
   ]
  },
  {
   "cell_type": "markdown",
   "metadata": {},
   "source": [
    "    4. Для всього набору даних виявити роки, протягом яких екстремальні посухи торкнулися більше вказаного відсотка областей по Україні (20% областей - 5 областей з 25). Повернути роки, назви областей з екстремальними посухами та значення VHI;"
   ]
  },
  {
   "cell_type": "code",
   "execution_count": 17,
   "metadata": {},
   "outputs": [
    {
     "name": "stdout",
     "output_type": "stream",
     "text": [
      "Роки, коли екстремальні посухи торкалися більше ніж 20% областей:\n",
      "\n",
      "Рік: 2000\n",
      "Кількість областей з екстремальними посухами: 6\n",
      "Області з екстремальними посухами та значення VHI:\n",
      "  Область 9.0: Week 44.0 VHI = 12.51\n",
      "  Область 9.0: Week 45.0 VHI = 10.6\n",
      "  Область 9.0: Week 46.0 VHI = 11.2\n",
      "  Область 9.0: Week 47.0 VHI = 12.32\n",
      "  Область 9.0: Week 48.0 VHI = 14.65\n",
      "  Область 26.0: Week 42.0 VHI = 14.89\n",
      "  Область 26.0: Week 43.0 VHI = 12.76\n",
      "  Область 26.0: Week 44.0 VHI = 7.81\n",
      "  Область 26.0: Week 45.0 VHI = 6.49\n",
      "  Область 26.0: Week 46.0 VHI = 6.58\n",
      "  Область 26.0: Week 47.0 VHI = 6.71\n",
      "  Область 26.0: Week 48.0 VHI = 7.56\n",
      "  Область 26.0: Week 49.0 VHI = 9.25\n",
      "  Область 26.0: Week 50.0 VHI = 10.94\n",
      "  Область 26.0: Week 51.0 VHI = 12.28\n",
      "  Область 22.0: Week 44.0 VHI = 14.64\n",
      "  Область 22.0: Week 45.0 VHI = 11.82\n",
      "  Область 22.0: Week 46.0 VHI = 10.81\n",
      "  Область 22.0: Week 47.0 VHI = 10.68\n",
      "  Область 22.0: Week 48.0 VHI = 12.3\n",
      "  Область 22.0: Week 49.0 VHI = 14.24\n",
      "  Область 27.0: Week 45.0 VHI = 13.14\n",
      "  Область 27.0: Week 46.0 VHI = 9.5\n",
      "  Область 27.0: Week 47.0 VHI = 8.14\n",
      "  Область 27.0: Week 48.0 VHI = 9.69\n",
      "  Область 27.0: Week 49.0 VHI = 11.2\n",
      "  Область 27.0: Week 50.0 VHI = 11.36\n",
      "  Область 27.0: Week 51.0 VHI = 12.77\n",
      "  Область 1.0: Week 45.0 VHI = 12.26\n",
      "  Область 1.0: Week 46.0 VHI = 11.28\n",
      "  Область 1.0: Week 47.0 VHI = 11.25\n",
      "  Область 1.0: Week 48.0 VHI = 11.38\n",
      "  Область 1.0: Week 49.0 VHI = 12.91\n",
      "  Область 1.0: Week 50.0 VHI = 14.2\n",
      "  Область 19.0: Week 46.0 VHI = 14.61\n",
      "  Область 19.0: Week 47.0 VHI = 11.33\n",
      "  Область 19.0: Week 48.0 VHI = 9.36\n",
      "  Область 19.0: Week 49.0 VHI = 9.45\n",
      "  Область 19.0: Week 50.0 VHI = 9.73\n",
      "  Область 19.0: Week 51.0 VHI = 11.45\n",
      "  Область 19.0: Week 52.0 VHI = 14.29\n",
      "\n",
      "Рік: 2007\n",
      "Кількість областей з екстремальними посухами: 5\n",
      "Області з екстремальними посухами та значення VHI:\n",
      "  Область 13.0: Week 22.0 VHI = 11.44\n",
      "  Область 13.0: Week 23.0 VHI = 7.78\n",
      "  Область 13.0: Week 24.0 VHI = 6.44\n",
      "  Область 13.0: Week 25.0 VHI = 6.12\n",
      "  Область 13.0: Week 26.0 VHI = 6.11\n",
      "  Область 13.0: Week 27.0 VHI = 5.94\n",
      "  Область 13.0: Week 28.0 VHI = 6.36\n",
      "  Область 13.0: Week 29.0 VHI = 7.61\n",
      "  Область 13.0: Week 30.0 VHI = 9.45\n",
      "  Область 13.0: Week 31.0 VHI = 11.7\n",
      "  Область 14.0: Week 25.0 VHI = 11.88\n",
      "  Область 14.0: Week 26.0 VHI = 9.21\n",
      "  Область 14.0: Week 27.0 VHI = 7.08\n",
      "  Область 14.0: Week 28.0 VHI = 5.9\n",
      "  Область 14.0: Week 29.0 VHI = 5.52\n",
      "  Область 14.0: Week 30.0 VHI = 5.85\n",
      "  Область 14.0: Week 31.0 VHI = 6.82\n",
      "  Область 14.0: Week 32.0 VHI = 8.86\n",
      "  Область 14.0: Week 33.0 VHI = 11.91\n",
      "  Область 7.0: Week 27.0 VHI = 14.26\n",
      "  Область 7.0: Week 28.0 VHI = 13.39\n",
      "  Область 7.0: Week 29.0 VHI = 13.33\n",
      "  Область 7.0: Week 30.0 VHI = 13.06\n",
      "  Область 7.0: Week 31.0 VHI = 13.13\n",
      "  Область 7.0: Week 32.0 VHI = 12.51\n",
      "  Область 7.0: Week 33.0 VHI = 11.55\n",
      "  Область 7.0: Week 34.0 VHI = 10.88\n",
      "  Область 7.0: Week 35.0 VHI = 11.06\n",
      "  Область 7.0: Week 36.0 VHI = 12.05\n",
      "  Область 7.0: Week 37.0 VHI = 13.84\n",
      "  Область 25.0: Week 30.0 VHI = 14.98\n",
      "  Область 25.0: Week 31.0 VHI = 14.23\n",
      "  Область 25.0: Week 32.0 VHI = 13.79\n",
      "  Область 25.0: Week 33.0 VHI = 13.41\n",
      "  Область 25.0: Week 34.0 VHI = 13.28\n",
      "  Область 25.0: Week 35.0 VHI = 14.36\n",
      "  Область 20.0: Week 23.0 VHI = 12.41\n",
      "  Область 20.0: Week 24.0 VHI = 12.23\n",
      "  Область 20.0: Week 25.0 VHI = 12.99\n",
      "  Область 20.0: Week 26.0 VHI = 13.33\n",
      "  Область 20.0: Week 27.0 VHI = 12.88\n",
      "  Область 20.0: Week 28.0 VHI = 12.63\n",
      "  Область 20.0: Week 29.0 VHI = 12.96\n",
      "  Область 20.0: Week 30.0 VHI = 13.48\n",
      "  Область 20.0: Week 31.0 VHI = 14.05\n",
      "  Область 20.0: Week 32.0 VHI = 14.41\n",
      "  Область 20.0: Week 33.0 VHI = 14.81\n",
      "None\n"
     ]
    }
   ],
   "source": [
    "def extreme_droughts( df ) :\n",
    "    \n",
    "    drought_df = df[ df['VHI'] < 15 ]\n",
    "\n",
    "    drought_counts = drought_df.groupby( 'Year' )[ 'Region' ].nunique( )\n",
    "\n",
    "    years_with_extreme_droughts = drought_counts[ drought_counts >= 5 ].index\n",
    "\n",
    "    result_df = drought_df[ drought_df['Year'].isin(years_with_extreme_droughts) ]\n",
    "    \n",
    "    print( \"Роки, коли екстремальні посухи торкалися більше ніж 20% областей:\" )\n",
    "    \n",
    "    for year in years_with_extreme_droughts :\n",
    "        affected_regions = result_df[ result_df['Year'] == year ]\n",
    "        print( f\"\\nРік: {year}\" )\n",
    "        print( f\"Кількість областей з екстремальними посухами: {affected_regions['Region'].nunique()}\" )\n",
    "        print( f\"Області з екстремальними посухами та значення VHI:\" )\n",
    "\n",
    "        for _, row in affected_regions.iterrows( ) :\n",
    "            print( f\"  Область {row['Region']}: Week {row['Week']} VHI = {row['VHI']}\" )\n",
    "    \n",
    "    return\n",
    "\n",
    "extreme_droughts_df = extreme_droughts( combined_dataframe )\n",
    "\n",
    "print( extreme_droughts_df )"
   ]
  }
 ],
 "metadata": {
  "kernelspec": {
   "display_name": "Python 3",
   "language": "python",
   "name": "python3"
  },
  "language_info": {
   "codemirror_mode": {
    "name": "ipython",
    "version": 3
   },
   "file_extension": ".py",
   "mimetype": "text/x-python",
   "name": "python",
   "nbconvert_exporter": "python",
   "pygments_lexer": "ipython3",
   "version": "3.11.0"
  }
 },
 "nbformat": 4,
 "nbformat_minor": 2
}
